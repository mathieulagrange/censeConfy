{
  "nbformat": 4,
  "nbformat_minor": 0,
  "metadata": {
    "colab": {
      "name": "prepareCenseDataH5.ipynb",
      "provenance": [],
      "collapsed_sections": [
        "3lg-AgfVEm_w"
      ],
      "toc_visible": true
    },
    "kernelspec": {
      "name": "python3",
      "display_name": "Python 3"
    },
    "widgets": {
      "application/vnd.jupyter.widget-state+json": {
        "0aa1df8c24c047c383e000256e771423": {
          "model_module": "@jupyter-widgets/controls",
          "model_name": "HBoxModel",
          "state": {
            "_view_name": "HBoxView",
            "_dom_classes": [],
            "_model_name": "HBoxModel",
            "_view_module": "@jupyter-widgets/controls",
            "_model_module_version": "1.5.0",
            "_view_count": null,
            "_view_module_version": "1.5.0",
            "box_style": "",
            "layout": "IPY_MODEL_4724434d910a480699e3b10f1e6cc9b5",
            "_model_module": "@jupyter-widgets/controls",
            "children": [
              "IPY_MODEL_72ed1d7016024e119bf61f499ae147ff",
              "IPY_MODEL_a65d0d6892d84c6d8cd749e84ee6a626"
            ]
          }
        },
        "4724434d910a480699e3b10f1e6cc9b5": {
          "model_module": "@jupyter-widgets/base",
          "model_name": "LayoutModel",
          "state": {
            "_view_name": "LayoutView",
            "grid_template_rows": null,
            "right": null,
            "justify_content": null,
            "_view_module": "@jupyter-widgets/base",
            "overflow": null,
            "_model_module_version": "1.2.0",
            "_view_count": null,
            "flex_flow": null,
            "width": null,
            "min_width": null,
            "border": null,
            "align_items": null,
            "bottom": null,
            "_model_module": "@jupyter-widgets/base",
            "top": null,
            "grid_column": null,
            "overflow_y": null,
            "overflow_x": null,
            "grid_auto_flow": null,
            "grid_area": null,
            "grid_template_columns": null,
            "flex": null,
            "_model_name": "LayoutModel",
            "justify_items": null,
            "grid_row": null,
            "max_height": null,
            "align_content": null,
            "visibility": null,
            "align_self": null,
            "height": null,
            "min_height": null,
            "padding": null,
            "grid_auto_rows": null,
            "grid_gap": null,
            "max_width": null,
            "order": null,
            "_view_module_version": "1.2.0",
            "grid_template_areas": null,
            "object_position": null,
            "object_fit": null,
            "grid_auto_columns": null,
            "margin": null,
            "display": null,
            "left": null
          }
        },
        "72ed1d7016024e119bf61f499ae147ff": {
          "model_module": "@jupyter-widgets/controls",
          "model_name": "FloatProgressModel",
          "state": {
            "_view_name": "ProgressView",
            "style": "IPY_MODEL_9c78bcb9613d482b9c86a7b03b41f519",
            "_dom_classes": [],
            "description": "100%",
            "_model_name": "FloatProgressModel",
            "bar_style": "success",
            "max": 16,
            "_view_module": "@jupyter-widgets/controls",
            "_model_module_version": "1.5.0",
            "value": 16,
            "_view_count": null,
            "_view_module_version": "1.5.0",
            "orientation": "horizontal",
            "min": 0,
            "description_tooltip": null,
            "_model_module": "@jupyter-widgets/controls",
            "layout": "IPY_MODEL_d1d918b3c316498dbdcb6fcb032f5c44"
          }
        },
        "a65d0d6892d84c6d8cd749e84ee6a626": {
          "model_module": "@jupyter-widgets/controls",
          "model_name": "HTMLModel",
          "state": {
            "_view_name": "HTMLView",
            "style": "IPY_MODEL_0ab0f722f5424f489672c10e2520da54",
            "_dom_classes": [],
            "description": "",
            "_model_name": "HTMLModel",
            "placeholder": "​",
            "_view_module": "@jupyter-widgets/controls",
            "_model_module_version": "1.5.0",
            "value": " 16/16 [27:55&lt;00:00, 104.72s/it]",
            "_view_count": null,
            "_view_module_version": "1.5.0",
            "description_tooltip": null,
            "_model_module": "@jupyter-widgets/controls",
            "layout": "IPY_MODEL_b2f49912a54d4174b501e909fbedd374"
          }
        },
        "9c78bcb9613d482b9c86a7b03b41f519": {
          "model_module": "@jupyter-widgets/controls",
          "model_name": "ProgressStyleModel",
          "state": {
            "_view_name": "StyleView",
            "_model_name": "ProgressStyleModel",
            "description_width": "initial",
            "_view_module": "@jupyter-widgets/base",
            "_model_module_version": "1.5.0",
            "_view_count": null,
            "_view_module_version": "1.2.0",
            "bar_color": null,
            "_model_module": "@jupyter-widgets/controls"
          }
        },
        "d1d918b3c316498dbdcb6fcb032f5c44": {
          "model_module": "@jupyter-widgets/base",
          "model_name": "LayoutModel",
          "state": {
            "_view_name": "LayoutView",
            "grid_template_rows": null,
            "right": null,
            "justify_content": null,
            "_view_module": "@jupyter-widgets/base",
            "overflow": null,
            "_model_module_version": "1.2.0",
            "_view_count": null,
            "flex_flow": null,
            "width": null,
            "min_width": null,
            "border": null,
            "align_items": null,
            "bottom": null,
            "_model_module": "@jupyter-widgets/base",
            "top": null,
            "grid_column": null,
            "overflow_y": null,
            "overflow_x": null,
            "grid_auto_flow": null,
            "grid_area": null,
            "grid_template_columns": null,
            "flex": null,
            "_model_name": "LayoutModel",
            "justify_items": null,
            "grid_row": null,
            "max_height": null,
            "align_content": null,
            "visibility": null,
            "align_self": null,
            "height": null,
            "min_height": null,
            "padding": null,
            "grid_auto_rows": null,
            "grid_gap": null,
            "max_width": null,
            "order": null,
            "_view_module_version": "1.2.0",
            "grid_template_areas": null,
            "object_position": null,
            "object_fit": null,
            "grid_auto_columns": null,
            "margin": null,
            "display": null,
            "left": null
          }
        },
        "0ab0f722f5424f489672c10e2520da54": {
          "model_module": "@jupyter-widgets/controls",
          "model_name": "DescriptionStyleModel",
          "state": {
            "_view_name": "StyleView",
            "_model_name": "DescriptionStyleModel",
            "description_width": "",
            "_view_module": "@jupyter-widgets/base",
            "_model_module_version": "1.5.0",
            "_view_count": null,
            "_view_module_version": "1.2.0",
            "_model_module": "@jupyter-widgets/controls"
          }
        },
        "b2f49912a54d4174b501e909fbedd374": {
          "model_module": "@jupyter-widgets/base",
          "model_name": "LayoutModel",
          "state": {
            "_view_name": "LayoutView",
            "grid_template_rows": null,
            "right": null,
            "justify_content": null,
            "_view_module": "@jupyter-widgets/base",
            "overflow": null,
            "_model_module_version": "1.2.0",
            "_view_count": null,
            "flex_flow": null,
            "width": null,
            "min_width": null,
            "border": null,
            "align_items": null,
            "bottom": null,
            "_model_module": "@jupyter-widgets/base",
            "top": null,
            "grid_column": null,
            "overflow_y": null,
            "overflow_x": null,
            "grid_auto_flow": null,
            "grid_area": null,
            "grid_template_columns": null,
            "flex": null,
            "_model_name": "LayoutModel",
            "justify_items": null,
            "grid_row": null,
            "max_height": null,
            "align_content": null,
            "visibility": null,
            "align_self": null,
            "height": null,
            "min_height": null,
            "padding": null,
            "grid_auto_rows": null,
            "grid_gap": null,
            "max_width": null,
            "order": null,
            "_view_module_version": "1.2.0",
            "grid_template_areas": null,
            "object_position": null,
            "object_fit": null,
            "grid_auto_columns": null,
            "margin": null,
            "display": null,
            "left": null
          }
        },
        "51d029d1b642489084e3713e4045bf21": {
          "model_module": "@jupyter-widgets/controls",
          "model_name": "HBoxModel",
          "state": {
            "_view_name": "HBoxView",
            "_dom_classes": [],
            "_model_name": "HBoxModel",
            "_view_module": "@jupyter-widgets/controls",
            "_model_module_version": "1.5.0",
            "_view_count": null,
            "_view_module_version": "1.5.0",
            "box_style": "",
            "layout": "IPY_MODEL_fe4bdf127fc94b66b4b58f9ffc2ba9a4",
            "_model_module": "@jupyter-widgets/controls",
            "children": [
              "IPY_MODEL_3d0df5266a7e41838607224f8c48d68c",
              "IPY_MODEL_76e4aeb23c2445aea507bae4ea5dc0bb"
            ]
          }
        },
        "fe4bdf127fc94b66b4b58f9ffc2ba9a4": {
          "model_module": "@jupyter-widgets/base",
          "model_name": "LayoutModel",
          "state": {
            "_view_name": "LayoutView",
            "grid_template_rows": null,
            "right": null,
            "justify_content": null,
            "_view_module": "@jupyter-widgets/base",
            "overflow": null,
            "_model_module_version": "1.2.0",
            "_view_count": null,
            "flex_flow": null,
            "width": null,
            "min_width": null,
            "border": null,
            "align_items": null,
            "bottom": null,
            "_model_module": "@jupyter-widgets/base",
            "top": null,
            "grid_column": null,
            "overflow_y": null,
            "overflow_x": null,
            "grid_auto_flow": null,
            "grid_area": null,
            "grid_template_columns": null,
            "flex": null,
            "_model_name": "LayoutModel",
            "justify_items": null,
            "grid_row": null,
            "max_height": null,
            "align_content": null,
            "visibility": null,
            "align_self": null,
            "height": null,
            "min_height": null,
            "padding": null,
            "grid_auto_rows": null,
            "grid_gap": null,
            "max_width": null,
            "order": null,
            "_view_module_version": "1.2.0",
            "grid_template_areas": null,
            "object_position": null,
            "object_fit": null,
            "grid_auto_columns": null,
            "margin": null,
            "display": null,
            "left": null
          }
        },
        "3d0df5266a7e41838607224f8c48d68c": {
          "model_module": "@jupyter-widgets/controls",
          "model_name": "FloatProgressModel",
          "state": {
            "_view_name": "ProgressView",
            "style": "IPY_MODEL_8da90fd845b04d3881c232473631e1c7",
            "_dom_classes": [],
            "description": "100%",
            "_model_name": "FloatProgressModel",
            "bar_style": "success",
            "max": 16,
            "_view_module": "@jupyter-widgets/controls",
            "_model_module_version": "1.5.0",
            "value": 16,
            "_view_count": null,
            "_view_module_version": "1.5.0",
            "orientation": "horizontal",
            "min": 0,
            "description_tooltip": null,
            "_model_module": "@jupyter-widgets/controls",
            "layout": "IPY_MODEL_5a3f41b4db9a4a9d93d9d074c19a69f0"
          }
        },
        "76e4aeb23c2445aea507bae4ea5dc0bb": {
          "model_module": "@jupyter-widgets/controls",
          "model_name": "HTMLModel",
          "state": {
            "_view_name": "HTMLView",
            "style": "IPY_MODEL_305e70bcf851412588e796e745d46dcb",
            "_dom_classes": [],
            "description": "",
            "_model_name": "HTMLModel",
            "placeholder": "​",
            "_view_module": "@jupyter-widgets/controls",
            "_model_module_version": "1.5.0",
            "value": " 16/16 [00:53&lt;00:00,  3.34s/it]",
            "_view_count": null,
            "_view_module_version": "1.5.0",
            "description_tooltip": null,
            "_model_module": "@jupyter-widgets/controls",
            "layout": "IPY_MODEL_ea7ed5362f6549bc8a98ca0e7a18840f"
          }
        },
        "8da90fd845b04d3881c232473631e1c7": {
          "model_module": "@jupyter-widgets/controls",
          "model_name": "ProgressStyleModel",
          "state": {
            "_view_name": "StyleView",
            "_model_name": "ProgressStyleModel",
            "description_width": "initial",
            "_view_module": "@jupyter-widgets/base",
            "_model_module_version": "1.5.0",
            "_view_count": null,
            "_view_module_version": "1.2.0",
            "bar_color": null,
            "_model_module": "@jupyter-widgets/controls"
          }
        },
        "5a3f41b4db9a4a9d93d9d074c19a69f0": {
          "model_module": "@jupyter-widgets/base",
          "model_name": "LayoutModel",
          "state": {
            "_view_name": "LayoutView",
            "grid_template_rows": null,
            "right": null,
            "justify_content": null,
            "_view_module": "@jupyter-widgets/base",
            "overflow": null,
            "_model_module_version": "1.2.0",
            "_view_count": null,
            "flex_flow": null,
            "width": null,
            "min_width": null,
            "border": null,
            "align_items": null,
            "bottom": null,
            "_model_module": "@jupyter-widgets/base",
            "top": null,
            "grid_column": null,
            "overflow_y": null,
            "overflow_x": null,
            "grid_auto_flow": null,
            "grid_area": null,
            "grid_template_columns": null,
            "flex": null,
            "_model_name": "LayoutModel",
            "justify_items": null,
            "grid_row": null,
            "max_height": null,
            "align_content": null,
            "visibility": null,
            "align_self": null,
            "height": null,
            "min_height": null,
            "padding": null,
            "grid_auto_rows": null,
            "grid_gap": null,
            "max_width": null,
            "order": null,
            "_view_module_version": "1.2.0",
            "grid_template_areas": null,
            "object_position": null,
            "object_fit": null,
            "grid_auto_columns": null,
            "margin": null,
            "display": null,
            "left": null
          }
        },
        "305e70bcf851412588e796e745d46dcb": {
          "model_module": "@jupyter-widgets/controls",
          "model_name": "DescriptionStyleModel",
          "state": {
            "_view_name": "StyleView",
            "_model_name": "DescriptionStyleModel",
            "description_width": "",
            "_view_module": "@jupyter-widgets/base",
            "_model_module_version": "1.5.0",
            "_view_count": null,
            "_view_module_version": "1.2.0",
            "_model_module": "@jupyter-widgets/controls"
          }
        },
        "ea7ed5362f6549bc8a98ca0e7a18840f": {
          "model_module": "@jupyter-widgets/base",
          "model_name": "LayoutModel",
          "state": {
            "_view_name": "LayoutView",
            "grid_template_rows": null,
            "right": null,
            "justify_content": null,
            "_view_module": "@jupyter-widgets/base",
            "overflow": null,
            "_model_module_version": "1.2.0",
            "_view_count": null,
            "flex_flow": null,
            "width": null,
            "min_width": null,
            "border": null,
            "align_items": null,
            "bottom": null,
            "_model_module": "@jupyter-widgets/base",
            "top": null,
            "grid_column": null,
            "overflow_y": null,
            "overflow_x": null,
            "grid_auto_flow": null,
            "grid_area": null,
            "grid_template_columns": null,
            "flex": null,
            "_model_name": "LayoutModel",
            "justify_items": null,
            "grid_row": null,
            "max_height": null,
            "align_content": null,
            "visibility": null,
            "align_self": null,
            "height": null,
            "min_height": null,
            "padding": null,
            "grid_auto_rows": null,
            "grid_gap": null,
            "max_width": null,
            "order": null,
            "_view_module_version": "1.2.0",
            "grid_template_areas": null,
            "object_position": null,
            "object_fit": null,
            "grid_auto_columns": null,
            "margin": null,
            "display": null,
            "left": null
          }
        }
      }
    }
  },
  "cells": [
    {
      "cell_type": "markdown",
      "metadata": {
        "id": "bZvyCmqFsnEy"
      },
      "source": [
        "# Prerequisites"
      ]
    },
    {
      "cell_type": "code",
      "metadata": {
        "id": "0rjpyLcOeBna",
        "outputId": "daa51e01-251f-499e-8914-6051463941b3",
        "colab": {
          "base_uri": "https://localhost:8080/",
          "height": 69
        }
      },
      "source": [
        "import numpy as np\n",
        "import tables as tb\n",
        "import os\n",
        "import glob\n",
        "import csv\n",
        "import shutil\n",
        "from tqdm.notebook import tqdm as tqdm\n",
        "import matplotlib.pyplot as plt\n",
        "plt.rcParams[\"figure.figsize\"] = [16,9]\n",
        "\n",
        "if not os.path.exists('/experiments'):\n",
        "  !ln -s /content/drive/My\\ Drive/experiments /experiments\n",
        "\n",
        "% cd /experiments/code/cense_storage/\n",
        "% pip install pyproj\n",
        "\n",
        "from utils import *\n",
        "\n",
        "dataFileSize = 10000\n",
        "nbFrequencyBands = 29\n",
        "\n",
        "inputPath = '/experiments/data/global/censeDomainAdaptation/'\n",
        "localPath = '/experiments/data/local/censeDomainAdaptation/'\n",
        "\n",
        "dataPath = '/tmp/censeDa/'\n",
        "if not os.path.exists(dataPath):\n",
        "  os.makedirs(dataPath)\n",
        "  \n",
        "dataPath = inputPath\n",
        "\n",
        "\n",
        "\n",
        "sListFile = 'sensor_list.csv'\n",
        "sensorInfo = sensor_list(sListFile)\n",
        "\n",
        "datasetFileName = 'censeDa.h5'"
      ],
      "execution_count": null,
      "outputs": [
        {
          "output_type": "stream",
          "text": [
            "/content/drive/My Drive/experiments/code/cense_storage\n",
            "Requirement already satisfied: pyproj in /usr/local/lib/python3.6/dist-packages (2.6.1.post1)\n",
            "Found 74 sensors.\n"
          ],
          "name": "stdout"
        }
      ]
    },
    {
      "cell_type": "markdown",
      "metadata": {
        "id": "n3MZ73E1s8jJ"
      },
      "source": [
        "# Generate dataset\n"
      ]
    },
    {
      "cell_type": "code",
      "metadata": {
        "id": "dZqA29231Llq",
        "outputId": "1003ce8b-b4d7-4d25-fb1a-66726f9a97e9",
        "colab": {
          "base_uri": "https://localhost:8080/",
          "height": 35
        }
      },
      "source": [
        "if not os.path.exists(dataPath+'fetch'):\n",
        "  ! rsync -r --info=progress2 {inputPath+'fetch.zip'} {dataPath}\n",
        "  ! unzip -qqo -d  {dataPath}  {dataPath+'fetch.zip'}\n",
        "  ! rm {dataPath+'fetch.zip'}"
      ],
      "execution_count": null,
      "outputs": [
        {
          "output_type": "stream",
          "text": [
            "  3,846,118,429 100%   32.57MB/s    0:01:52 (xfr#1, to-chk=0/1)\n"
          ],
          "name": "stdout"
        }
      ]
    },
    {
      "cell_type": "code",
      "metadata": {
        "id": "aC-cM1YYLThK"
      },
      "source": [
        "class Sensor(tb.IsDescription):\n",
        "  number = tb.Int32Col()\n",
        "  id = tb.StringCol(100)\n",
        "  lat = tb.Float64Col()\n",
        "  lon = tb.Float64Col() "
      ],
      "execution_count": null,
      "outputs": []
    },
    {
      "cell_type": "code",
      "metadata": {
        "id": "k6yOHgLih3TX"
      },
      "source": [
        "tmpFileName = dataPath+'tmpDa'\n",
        "\n",
        "data = np.zeros((dataFileSize, nbFrequencyBands))\n",
        "dataTime = np.zeros((dataFileSize, 1))\n",
        "\n",
        "dryRun = False\n",
        "reDo = True\n",
        "\n",
        "if 'f' in locals():\n",
        "  f.close()\n",
        "\n",
        "if reDo :\n",
        "  fileName = dataPath+datasetFileName\n",
        "  if dryRun:\n",
        "    fileName = fileName.replace('.h5', 'DryRun.h5')\n",
        "  f = tb.open_file(fileName, mode='w')\n",
        "  f.create_table('/', 'sensor', Sensor, 'Sensor information')\n",
        "  time = f.create_group('/', 'time', 'time expressed in epoch')\n",
        "  spectrum = f.create_group('/', 'spectrum', 'spectral data third octave bands fast (125ms)')\n",
        "  for sCount, s in tqdm(enumerate(sensorInfo), total=len(sensorInfo)):\n",
        "    sensor = f.root.sensor.row\n",
        "    sensor['id'] = s[\"sID\"]\n",
        "    sensor['lat'] = s[\"latGPS\"]\n",
        "    sensor['lon'] = s[\"lonGPS\"]\n",
        "    sensor['number'] = sCount\n",
        "    sensor.append()\n",
        "    arrayTime = f.create_earray(time, 'sensor'+str(sCount), tb.Float64Atom(), (0,))\n",
        "    arraySpec = f.create_earray(spectrum, 'sensor'+str(sCount), tb.Float64Atom(), (0, nbFrequencyBands))\n",
        "    #print('----- '+s[\"sID\"]+' -----')\n",
        "    if dryRun:\n",
        "      if np.random.randint(1):\n",
        "        data = np.zeros((10, 32))\n",
        "        arrayTime.append(data[:, 0])\n",
        "        arraySpec.append(data[:, 3:])\n",
        "    else:\n",
        "      fileNames = []\n",
        "      for year in [2019, 2020]:\n",
        "        for month in range(13):\n",
        "          for day in range(33):\n",
        "            for hour in range(25):\n",
        "              fileName = dataPath+'fetch/'+s[\"sID\"]+'/'+str(year)+'/'+str(month)+'/'+str(day)+'/'+str(hour)+'.zip'\n",
        "              if os.path.exists(fileName):\n",
        "                fileNames.append(fileName)\n",
        "      # print(len(fileNames))\n",
        "\n",
        "      for fileName in fileNames:         \n",
        "        shutil.copy(fileName, tmpFileName+'.zip')\n",
        "        os.system('unzip -d /tmp '+tmpFileName+'.zip')\n",
        "        csvFileName = os.path.basename(fileName).replace('zip', 'csv')\n",
        "        with open('/tmp/'+csvFileName, 'r') as csvfileID:\n",
        "          reader = csv.reader(csvfileID, delimiter=',')\n",
        "          nbVec = (sum(1 for row in reader))\n",
        "        with open('/tmp/'+csvFileName, 'r') as csvfileID: \n",
        "          reader = csv.reader(csvfileID, delimiter=',')\n",
        "          data = np.zeros((nbVec, 32))\n",
        "          rCount = 0\n",
        "          for row in reader:\n",
        "            data[rCount, :] = [float(s) for s in row]\n",
        "            rCount +=1\n",
        "          arrayTime.append(data[:, 0])\n",
        "          arraySpec.append(data[:, 3:])\n",
        "\n",
        "          os.remove('/tmp/'+csvFileName)\n",
        "        os.remove(tmpFileName+'.zip')\n",
        "  f.root.sensor.flush()\n",
        "  f.close()"
      ],
      "execution_count": null,
      "outputs": []
    },
    {
      "cell_type": "markdown",
      "metadata": {
        "id": "OwTahZGx6gVe"
      },
      "source": [
        "# sync to drive"
      ]
    },
    {
      "cell_type": "code",
      "metadata": {
        "id": "C0EbcxkO3c8r",
        "outputId": "2a6a5904-e65a-48c3-d5e5-673923d3864c",
        "colab": {
          "base_uri": "https://localhost:8080/",
          "height": 35
        }
      },
      "source": [
        "! rsync  --info=progress2 {dataPath+datasetFileName} {localPath}"
      ],
      "execution_count": null,
      "outputs": [
        {
          "output_type": "stream",
          "text": [
            "  1,152,088,072 100%  152.15MB/s    0:00:07 (xfr#1, to-chk=0/1)\n"
          ],
          "name": "stdout"
        }
      ]
    },
    {
      "cell_type": "markdown",
      "metadata": {
        "id": "56D1fyn99fqX"
      },
      "source": [
        "# sync from drive"
      ]
    },
    {
      "cell_type": "code",
      "metadata": {
        "id": "gNECQVTq9fqZ",
        "outputId": "ec61f476-5a8c-48d8-c974-298b6ba58b52",
        "colab": {
          "base_uri": "https://localhost:8080/",
          "height": 35
        }
      },
      "source": [
        "if not os.path.exists(dataPath+datasetFileName):\n",
        "  ! rsync  --info=progress2 {inputPath+datasetFileName} {dataPath}\n",
        "  #! rsync  --info=progress2 {dataPath+datasetFileName} {dataPath+datasetFileName.replace('.h5', 'Bck.h5')}"
      ],
      "execution_count": null,
      "outputs": [
        {
          "output_type": "stream",
          "text": [
            " 12,657,956,872 100%   29.53MB/s    0:06:48 (xfr#1, to-chk=0/1)\n"
          ],
          "name": "stdout"
        }
      ]
    },
    {
      "cell_type": "markdown",
      "metadata": {
        "id": "QKptdVpO4Tm9"
      },
      "source": [
        "# check dataset integrity\n",
        "\n",
        "  "
      ]
    },
    {
      "cell_type": "code",
      "metadata": {
        "id": "gLWDwfkR4Xi5",
        "outputId": "0bdaef12-6aec-4885-da56-4ed01c7ddd48",
        "colab": {
          "base_uri": "https://localhost:8080/",
          "height": 86
        }
      },
      "source": [
        "print(len(sensorInfo))\n",
        "f = tb.open_file(dataPath+datasetFileName, mode='r')\n",
        "print(len(f.root.sensor))\n",
        "print(sum(1 for x in f.root.time))\n",
        "print(sum(1 for x in f.root.spectrum))\n",
        "f.close()"
      ],
      "execution_count": null,
      "outputs": [
        {
          "output_type": "stream",
          "text": [
            "74\n",
            "16\n",
            "16\n",
            "16\n"
          ],
          "name": "stdout"
        }
      ]
    },
    {
      "cell_type": "markdown",
      "metadata": {
        "id": "Pf4vngbfnvhb"
      },
      "source": [
        "# Check disk usage"
      ]
    },
    {
      "cell_type": "code",
      "metadata": {
        "id": "osxwheycvGMv",
        "outputId": "2d056d5b-c70b-4772-af24-cfd321e88d82",
        "colab": {
          "base_uri": "https://localhost:8080/",
          "height": 35
        }
      },
      "source": [
        "! du -sh {dataPath}"
      ],
      "execution_count": null,
      "outputs": [
        {
          "output_type": "stream",
          "text": [
            "17G\t/tmp/censeDa/\n"
          ],
          "name": "stdout"
        }
      ]
    },
    {
      "cell_type": "markdown",
      "metadata": {
        "id": "VnG0Hc96LfhX"
      },
      "source": [
        "# remove sensors with low content"
      ]
    },
    {
      "cell_type": "code",
      "metadata": {
        "id": "XIgoTVUy-pnC"
      },
      "source": [
        "f = tb.open_file(dataPath+datasetFileName, mode='a')\n",
        "for d in f.root.spectrum: # loop over spectral data\n",
        "  if d.shape[0]<2000000:\n",
        "    for xCount, x in enumerate(f.root.sensor):   \n",
        "      if x['number'] == int(d._v_name.replace('sensor', '')):\n",
        "        f.root.sensor.remove_row(xCount) # remove column in table\n",
        "    f.root.time._f_get_child(d._v_name)._f_remove() # remove time data\n",
        "    d._f_remove() # remove spectral data\n",
        "f.root.sensor.flush()\n",
        "f.close()"
      ],
      "execution_count": null,
      "outputs": []
    },
    {
      "cell_type": "markdown",
      "metadata": {
        "id": "3lg-AgfVEm_w"
      },
      "source": [
        "# put all sensors at length"
      ]
    },
    {
      "cell_type": "code",
      "metadata": {
        "id": "x5Sh9-foElP1",
        "outputId": "059b2058-95a6-495b-b0ca-0eae3181eb6d",
        "colab": {
          "base_uri": "https://localhost:8080/",
          "height": 587
        }
      },
      "source": [
        "f = tb.open_file(dataPath+datasetFileName, mode='a')\n",
        "minSize = min([x.shape[0] for x in f.root.spectrum])\n",
        "print(minSize)\n",
        "minSize = 300000 # uncomment to generate small dataset\n",
        "for s in f.root.sensor: # loop over sensors\n",
        "  f.root.spectrum._f_get_child('sensor'+str(s['number'])).rename('tmp')\n",
        "  f.create_array(f.root.spectrum, 'sensor'+str(s['number']), f.root.spectrum.tmp[:minSize])\n",
        "  f.root.spectrum._f_get_child('tmp')._f_remove()\n",
        "  print(f.root.spectrum._f_get_child('sensor'+str(s['number'])).shape)\n",
        "\n",
        "  f.root.time._f_get_child('sensor'+str(s['number'])).rename('tmp')\n",
        "  f.create_array(f.root.time, 'sensor'+str(s['number']), f.root.time.tmp[:minSize])\n",
        "  f.root.time._f_get_child('tmp')._f_remove()\n",
        "  print(f.root.time._f_get_child('sensor'+str(s['number'])).shape) \n",
        "f.close()"
      ],
      "execution_count": null,
      "outputs": [
        {
          "output_type": "stream",
          "text": [
            "3296320\n",
            "(300000, 29)\n",
            "(300000,)\n",
            "(300000, 29)\n",
            "(300000,)\n",
            "(300000, 29)\n",
            "(300000,)\n",
            "(300000, 29)\n",
            "(300000,)\n",
            "(300000, 29)\n",
            "(300000,)\n",
            "(300000, 29)\n",
            "(300000,)\n",
            "(300000, 29)\n",
            "(300000,)\n",
            "(300000, 29)\n",
            "(300000,)\n",
            "(300000, 29)\n",
            "(300000,)\n",
            "(300000, 29)\n",
            "(300000,)\n",
            "(300000, 29)\n",
            "(300000,)\n",
            "(300000, 29)\n",
            "(300000,)\n",
            "(300000, 29)\n",
            "(300000,)\n",
            "(300000, 29)\n",
            "(300000,)\n",
            "(300000, 29)\n",
            "(300000,)\n",
            "(300000, 29)\n",
            "(300000,)\n"
          ],
          "name": "stdout"
        }
      ]
    },
    {
      "cell_type": "markdown",
      "metadata": {
        "id": "TVQ-eu9Px5KV"
      },
      "source": [
        "# Sanity check\n",
        "\n",
        "min max, and average mean, std per block\n",
        "per sensor and frequencyBand"
      ]
    },
    {
      "cell_type": "code",
      "metadata": {
        "id": "qXp3bbHJskPH",
        "outputId": "4a7a6498-b7c2-41dd-dd74-894a23b78e6a",
        "colab": {
          "base_uri": "https://localhost:8080/",
          "height": 66,
          "referenced_widgets": [
            "0aa1df8c24c047c383e000256e771423",
            "4724434d910a480699e3b10f1e6cc9b5",
            "72ed1d7016024e119bf61f499ae147ff",
            "a65d0d6892d84c6d8cd749e84ee6a626",
            "9c78bcb9613d482b9c86a7b03b41f519",
            "d1d918b3c316498dbdcb6fcb032f5c44",
            "0ab0f722f5424f489672c10e2520da54",
            "b2f49912a54d4174b501e909fbedd374"
          ]
        }
      },
      "source": [
        "def sanityCheck(datasetPath, dryRun=False):\n",
        "\n",
        "  f = tb.open_file(datasetPath, mode='r')\n",
        "  stats = np.zeros((len(f.root.sensor), f.root.spectrum.sensor0.shape[1], 5))\n",
        "\n",
        "  for dCount, data in tqdm(enumerate(f.root.spectrum), total=len(f.root.sensor)):\n",
        "    if data.shape[0]>0:\n",
        "      if dryRun:\n",
        "        data = data[0:100, :]\n",
        "      stats[dCount, :, 0] = np.amin(data, axis=0)\n",
        "      stats[dCount, :, 1] = np.amax(data, axis=0)\n",
        "      stats[dCount, :, 2] = np.mean(data, axis=0)\n",
        "      stats[dCount, :, 3] = np.std(data, axis=0)\n",
        "      stats[dCount, :, 4] = data.shape[0]\n",
        "  f.close()\n",
        "\n",
        "  return stats\n",
        "\n",
        "stats = sanityCheck(dataPath+datasetFileName)"
      ],
      "execution_count": null,
      "outputs": [
        {
          "output_type": "display_data",
          "data": {
            "application/vnd.jupyter.widget-view+json": {
              "model_id": "0aa1df8c24c047c383e000256e771423",
              "version_minor": 0,
              "version_major": 2
            },
            "text/plain": [
              "HBox(children=(FloatProgress(value=0.0, max=16.0), HTML(value='')))"
            ]
          },
          "metadata": {
            "tags": []
          }
        },
        {
          "output_type": "stream",
          "text": [
            "\n"
          ],
          "name": "stdout"
        }
      ]
    },
    {
      "cell_type": "markdown",
      "metadata": {
        "id": "3WP9GNnI-pYt"
      },
      "source": [
        ""
      ]
    },
    {
      "cell_type": "markdown",
      "metadata": {
        "id": "YcPZCQGssmED"
      },
      "source": [
        "# Display statistics"
      ]
    },
    {
      "cell_type": "code",
      "metadata": {
        "id": "AvVBMQ_DuXk4"
      },
      "source": [
        "plt.rcParams[\"figure.figsize\"] = [16,9]\n",
        "\n",
        "f, axes = plt.subplots(2, 2)\n",
        "statNames = ['Min', 'Max', 'Mean', 'Std']\n",
        "axes = axes.flatten()\n",
        "for aCount, ax in enumerate(axes):\n",
        "  ax.set_title(statNames[aCount])\n",
        "  i = ax.imshow(stats[:, :, aCount])\n",
        "  f.colorbar(i, ax=ax)\n",
        "  ax.set_xlabel('Frequency bands')\n",
        "  ax.set_ylabel('Sensor id')\n",
        "\n",
        "f.show()\n",
        "f.savefig(localPath+'/figures/stats.png')"
      ],
      "execution_count": null,
      "outputs": []
    },
    {
      "cell_type": "markdown",
      "metadata": {
        "id": "pXDuh1WNCWi7"
      },
      "source": [
        "# check for discontinuity"
      ]
    },
    {
      "cell_type": "code",
      "metadata": {
        "id": "GYkj90wACb-n",
        "outputId": "28b9d0ef-8075-4426-b6a9-6b07687ca834",
        "colab": {
          "base_uri": "https://localhost:8080/",
          "height": 66,
          "referenced_widgets": [
            "51d029d1b642489084e3713e4045bf21",
            "fe4bdf127fc94b66b4b58f9ffc2ba9a4",
            "3d0df5266a7e41838607224f8c48d68c",
            "76e4aeb23c2445aea507bae4ea5dc0bb",
            "8da90fd845b04d3881c232473631e1c7",
            "5a3f41b4db9a4a9d93d9d074c19a69f0",
            "305e70bcf851412588e796e745d46dcb",
            "ea7ed5362f6549bc8a98ca0e7a18840f"
          ]
        }
      },
      "source": [
        "tolerance = 250\n",
        "\n",
        "f = tb.open_file(dataPath+datasetFileName, mode='r')\n",
        "\n",
        "nbDisc = np.zeros((len(f.root.sensor), 1))\n",
        "nbVec = np.zeros((len(f.root.sensor), 1))\n",
        "\n",
        "for tCount, t in tqdm(enumerate(f.root.time), total=len(f.root.sensor)):\n",
        "  t0 = t[0]\n",
        "  nbVec[tCount] = len(t)\n",
        "  for t1 in t[1:]:\n",
        "    if t1-t0 > tolerance:\n",
        "      nbDisc[tCount] += 1\n",
        "    t0=t1\n",
        "f.close()"
      ],
      "execution_count": null,
      "outputs": [
        {
          "output_type": "display_data",
          "data": {
            "application/vnd.jupyter.widget-view+json": {
              "model_id": "51d029d1b642489084e3713e4045bf21",
              "version_minor": 0,
              "version_major": 2
            },
            "text/plain": [
              "HBox(children=(FloatProgress(value=0.0, max=16.0), HTML(value='')))"
            ]
          },
          "metadata": {
            "tags": []
          }
        },
        {
          "output_type": "stream",
          "text": [
            "\n"
          ],
          "name": "stdout"
        }
      ]
    },
    {
      "cell_type": "markdown",
      "metadata": {
        "id": "PJ_6bizfDfPb"
      },
      "source": [
        "# display discontinuity per sensor"
      ]
    },
    {
      "cell_type": "code",
      "metadata": {
        "id": "BfBafQJUDfdk"
      },
      "source": [
        "fig, axes = plt.subplots(2, 1)\n",
        "\n",
        "axes[0].plot(nbDisc/max(nbVec))\n",
        "axes[0].set_xlabel('Sensor id')\n",
        "axes[0].set_ylabel('# dicontinuities / # vectors')\n",
        "axes[1].plot(nbVec)\n",
        "axes[1].set_xlabel('Sensor id')\n",
        "axes[1].set_ylabel('# vectors')\n",
        "\n",
        "plt.show()\n",
        "fig.savefig(localPath+'/figures/discontinuities.png')"
      ],
      "execution_count": null,
      "outputs": []
    },
    {
      "cell_type": "markdown",
      "metadata": {
        "id": "AMFyYl2GtTF9"
      },
      "source": [
        "# check for continuity"
      ]
    },
    {
      "cell_type": "code",
      "metadata": {
        "id": "4gOZU32JCe-I"
      },
      "source": [
        "f = tb.open_file(dataPath+datasetFileName, mode='r')\n",
        "print(len(f.root.time.sensor13))\n",
        "plt.plot(f.root.time.sensor13)"
      ],
      "execution_count": null,
      "outputs": []
    },
    {
      "cell_type": "markdown",
      "metadata": {
        "id": "uFloVNPZQiwP"
      },
      "source": [
        "# curate sensor naming"
      ]
    },
    {
      "cell_type": "code",
      "metadata": {
        "id": "zWDui6b9QfYJ"
      },
      "source": [
        "f = tb.open_file(dataPath+datasetFileName, mode='a')\n",
        "for dCount, d in enumerate(f.root.sensor): # loop over sensor table\n",
        "  print(d['number'])\n",
        "  f.root.time._f_get_child('sensor'+str(d['number'])).rename('sensorTmp'+str(dCount))\n",
        "  f.root.spectrum._f_get_child('sensor'+str(d['number'])).rename('sensorTmp'+str(dCount))\n",
        "  d['number'] = dCount \n",
        "  d.update()\n",
        "\n",
        "for d in f.root.spectrum:\n",
        "  d.rename(d._v_name.replace('Tmp', ''))\n",
        "for d in f.root.time:\n",
        "  d.rename(d._v_name.replace('Tmp', ''))\n",
        "f.close()"
      ],
      "execution_count": null,
      "outputs": []
    },
    {
      "cell_type": "markdown",
      "metadata": {
        "id": "mT_4ydQUMfNP"
      },
      "source": [
        "# Debug"
      ]
    },
    {
      "cell_type": "markdown",
      "metadata": {
        "id": "FeXE9ovM7Jvu"
      },
      "source": [
        "# close all tables files\n",
        "  "
      ]
    },
    {
      "cell_type": "code",
      "metadata": {
        "id": "e2CJkyTdLn1y",
        "outputId": "335a775b-cf17-4c07-9798-e72fb46ecfb8",
        "colab": {
          "base_uri": "https://localhost:8080/",
          "height": 35
        }
      },
      "source": [
        "tb.file._open_files.close_all()"
      ],
      "execution_count": null,
      "outputs": [
        {
          "output_type": "stream",
          "text": [
            "Closing remaining open files:/tmp/censeDa/censeDa.h5...done\n"
          ],
          "name": "stderr"
        }
      ]
    },
    {
      "cell_type": "markdown",
      "metadata": {
        "id": "pf8qSDa-8Gzv"
      },
      "source": [
        "# revert backup"
      ]
    },
    {
      "cell_type": "code",
      "metadata": {
        "id": "K49nLN-t8IiY"
      },
      "source": [
        "! rsync  --info=progress2 {dataPath+datasetFileName.replace('.h5', 'Bck.h5')} {dataPath+datasetFileName}"
      ],
      "execution_count": null,
      "outputs": []
    },
    {
      "cell_type": "code",
      "metadata": {
        "id": "SgAsPJ-c8Ya-",
        "outputId": "57ee8c1f-1b6b-441b-f31d-36d7515b2fa0",
        "colab": {
          "base_uri": "https://localhost:8080/",
          "height": 725
        }
      },
      "source": [
        "f = tb.open_file(inputPath+datasetFileName, mode='r')\n",
        "print(f.root.sensor[:]['number'])\n",
        "print(f)\n",
        "f.close()"
      ],
      "execution_count": null,
      "outputs": [
        {
          "output_type": "stream",
          "text": [
            "[ 0  1  2  3  4  5  6  7  8  9 10 11 12 13 14 15]\n",
            "/experiments/data/global/censeDa/censeDa.h5 (File) ''\n",
            "Last modif.: 'Fri Jun  5 18:31:11 2020'\n",
            "Object Tree: \n",
            "/ (RootGroup) ''\n",
            "/sensor (Table(16,)) 'Sensor information'\n",
            "/spectrum (Group) 'spectral data third octave bands fast (125ms)'\n",
            "/spectrum/sensor0 (Array(3296320, 29)) ''\n",
            "/spectrum/sensor1 (Array(3296320, 29)) ''\n",
            "/spectrum/sensor10 (Array(3296320, 29)) ''\n",
            "/spectrum/sensor11 (Array(3296320, 29)) ''\n",
            "/spectrum/sensor12 (Array(3296320, 29)) ''\n",
            "/spectrum/sensor13 (Array(3296320, 29)) ''\n",
            "/spectrum/sensor14 (Array(3296320, 29)) ''\n",
            "/spectrum/sensor15 (Array(3296320, 29)) ''\n",
            "/spectrum/sensor2 (Array(3296320, 29)) ''\n",
            "/spectrum/sensor3 (Array(3296320, 29)) ''\n",
            "/spectrum/sensor4 (Array(3296320, 29)) ''\n",
            "/spectrum/sensor5 (Array(3296320, 29)) ''\n",
            "/spectrum/sensor6 (Array(3296320, 29)) ''\n",
            "/spectrum/sensor7 (Array(3296320, 29)) ''\n",
            "/spectrum/sensor8 (Array(3296320, 29)) ''\n",
            "/spectrum/sensor9 (Array(3296320, 29)) ''\n",
            "/time (Group) 'time expressed in epoch'\n",
            "/time/sensor0 (Array(3296320,)) ''\n",
            "/time/sensor1 (Array(3296320,)) ''\n",
            "/time/sensor10 (Array(3296320,)) ''\n",
            "/time/sensor11 (Array(3296320,)) ''\n",
            "/time/sensor12 (Array(3296320,)) ''\n",
            "/time/sensor13 (Array(3296320,)) ''\n",
            "/time/sensor14 (Array(3296320,)) ''\n",
            "/time/sensor15 (Array(3296320,)) ''\n",
            "/time/sensor2 (Array(3296320,)) ''\n",
            "/time/sensor3 (Array(3296320,)) ''\n",
            "/time/sensor4 (Array(3296320,)) ''\n",
            "/time/sensor5 (Array(3296320,)) ''\n",
            "/time/sensor6 (Array(3296320,)) ''\n",
            "/time/sensor7 (Array(3296320,)) ''\n",
            "/time/sensor8 (Array(3296320,)) ''\n",
            "/time/sensor9 (Array(3296320,)) ''\n",
            "\n"
          ],
          "name": "stdout"
        }
      ]
    },
    {
      "cell_type": "code",
      "metadata": {
        "id": "Dk83kdv90ol1"
      },
      "source": [
        "! ptrepack {dataPath+datasetFileName} {dataPath+'tmp.h5'}\n",
        "! mv {dataPath+'tmp.h5'} {dataPath+datasetFileName}"
      ],
      "execution_count": null,
      "outputs": []
    },
    {
      "cell_type": "code",
      "metadata": {
        "id": "4bNjsr4K0w1G",
        "outputId": "32eb96c3-7159-4e09-cafa-c9c8b25a554e",
        "colab": {
          "base_uri": "https://localhost:8080/",
          "height": 35
        }
      },
      "source": [
        "stats\n"
      ],
      "execution_count": null,
      "outputs": [
        {
          "output_type": "execute_result",
          "data": {
            "text/plain": [
              "(16, 29, 5)"
            ]
          },
          "metadata": {
            "tags": []
          },
          "execution_count": 12
        }
      ]
    },
    {
      "cell_type": "code",
      "metadata": {
        "id": "mWACX2lfJx4C"
      },
      "source": [
        "np.save('/experiments/data/global/censeDomainAdaptation/models', stats)"
      ],
      "execution_count": null,
      "outputs": []
    },
    {
      "cell_type": "code",
      "metadata": {
        "id": "U1yW8cvNJ-vc"
      },
      "source": [
        ""
      ],
      "execution_count": null,
      "outputs": []
    }
  ]
}