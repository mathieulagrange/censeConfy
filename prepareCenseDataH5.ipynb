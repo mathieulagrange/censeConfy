{
 "cells": [
  {
   "cell_type": "markdown",
   "metadata": {
    "id": "bZvyCmqFsnEy"
   },
   "source": [
    "# Prerequisites"
   ]
  },
  {
   "cell_type": "code",
   "execution_count": 1,
   "metadata": {
    "colab": {
     "base_uri": "https://localhost:8080/",
     "height": 69
    },
    "id": "0rjpyLcOeBna",
    "outputId": "daa51e01-251f-499e-8914-6051463941b3"
   },
   "outputs": [
    {
     "name": "stdout",
     "output_type": "stream",
     "text": [
      "Found 16 sensors.\n"
     ]
    }
   ],
   "source": [
    "import numpy as np\n",
    "import tables as tb\n",
    "import os\n",
    "import glob\n",
    "import csv\n",
    "import shutil\n",
    "import tqdm as tq\n",
    "import matplotlib.pyplot as plt\n",
    "plt.rcParams[\"figure.figsize\"] = [16,9]\n",
    "\n",
    "from utils import *\n",
    "\n",
    "class Config:\n",
    "    pass\n",
    "\n",
    "config = Config()\n",
    "config.nbFrequencyBands = 29\n",
    "\n",
    "config.rootPath = '/home/lagrange/data/storage/cense/confy/'\n",
    "config.inputPath = config.rootPath+'raw/'\n",
    "config.dataPath = config.rootPath+'data/'\n",
    "\n",
    "config.sensorInfo = sensor_list('sensorList.csv')\n",
    "\n",
    "config.month = ['january', 'march']\n",
    "config.monthPath = ['01_02_2020', '04_05_2020']\n",
    "\n"
   ]
  },
  {
   "cell_type": "markdown",
   "metadata": {
    "id": "n3MZ73E1s8jJ"
   },
   "source": [
    "# Generate dataset\n"
   ]
  },
  {
   "cell_type": "code",
   "execution_count": 2,
   "metadata": {
    "id": "aC-cM1YYLThK"
   },
   "outputs": [],
   "source": [
    "class Sensor(tb.IsDescription):\n",
    "  number = tb.Int32Col()\n",
    "  id = tb.StringCol(100)\n",
    "  lat = tb.Float64Col()\n",
    "  lon = tb.Float64Col() "
   ]
  },
  {
   "cell_type": "code",
   "execution_count": null,
   "metadata": {
    "id": "k6yOHgLih3TX"
   },
   "outputs": [
    {
     "name": "stderr",
     "output_type": "stream",
     "text": [
      "Closing remaining open files:/home/lagrange/data/storage/cense/confy/data/censeConfymarchOneDay.h5...done\n"
     ]
    },
    {
     "name": "stdout",
     "output_type": "stream",
     "text": [
      "/home/lagrange/data/storage/cense/confy/data/censeConfymarchOneDay.h5\n"
     ]
    },
    {
     "name": "stderr",
     "output_type": "stream",
     "text": [
      "  0%|          | 0/24 [00:00<?, ?it/s]"
     ]
    },
    {
     "name": "stdout",
     "output_type": "stream",
     "text": [
      "Sensor 0 / 16\n"
     ]
    },
    {
     "name": "stderr",
     "output_type": "stream",
     "text": [
      "  4%|▍         | 1/24 [01:01<23:45, 61.97s/it]"
     ]
    }
   ],
   "source": [
    "def generateDataset(config, mType):\n",
    "    tmpFileName = config.dataPath+'tmpDa'\n",
    "    datasetFileName = 'censeConfy'+config.month[mType]+'.h5'\n",
    "    data = np.zeros((1000, config.nbFrequencyBands))\n",
    "    dataTime = np.zeros((1000, 1))\n",
    "\n",
    "    dryRun = False\n",
    "    oneDay = True\n",
    "    reDo = True\n",
    "    \n",
    "    if oneDay:\n",
    "        dayLimit = 2\n",
    "    else:\n",
    "        dayLimit = 33\n",
    "\n",
    "    if 'f' in locals():\n",
    "      f.close()\n",
    "\n",
    "    if reDo :\n",
    "      fileName = config.dataPath+datasetFileName\n",
    "      if dryRun:\n",
    "        fileName = fileName.replace('.h5', 'DryRun.h5')\n",
    "      if oneDay:\n",
    "        fileName = fileName.replace('.h5', 'OneDay.h5')\n",
    "      print(fileName)\n",
    "      f = tb.open_file(fileName, mode='w')\n",
    "      f.create_table('/', 'sensor', Sensor, 'Sensor information')\n",
    "      time = f.create_group('/', 'time', 'time expressed in epoch')\n",
    "      spectrum = f.create_group('/', 'spectrum', 'spectral data third octave bands fast (125ms)')\n",
    "      for sCount, s in enumerate(config.sensorInfo): #tq.tqdm(enumerate(sensorInfo), total=len(sensorInfo)):\n",
    "        print('Sensor '+str(sCount)+' / '+str(len(config.sensorInfo)))\n",
    "        sensor = f.root.sensor.row\n",
    "        sensor['id'] = s[\"sID\"]\n",
    "        sensor['lat'] = s[\"latGPS\"]\n",
    "        sensor['lon'] = s[\"lonGPS\"]\n",
    "        sensor['number'] = sCount\n",
    "        sensor.append()\n",
    "        arrayTime = f.create_earray(time, 'sensor'+str(sCount), tb.Float64Atom(), (0,))\n",
    "        arraySpec = f.create_earray(spectrum, 'sensor'+str(sCount), tb.Float64Atom(), (0, config.nbFrequencyBands))\n",
    "        #print('----- '+s[\"sID\"]+' -----')\n",
    "        if dryRun:\n",
    "          if np.random.randint(1):\n",
    "            data = np.zeros((10, 32))\n",
    "            arrayTime.append(data[:, 0])\n",
    "            arraySpec.append(data[:, 3:])\n",
    "        else:\n",
    "          fileNames = []\n",
    "          for year in [2019, 2020]:\n",
    "            for month in range(13):\n",
    "              for day in range(dayLimit):\n",
    "                for hour in range(25):\n",
    "                  fileName = config.inputPath+config.monthPath[mType]+'/'+s[\"sID\"]+'/'+str(year)+'/'+str(month)+'/'+str(day)+'/'+str(hour)+'.zip'\n",
    "                  if os.path.exists(fileName):\n",
    "                    fileNames.append(fileName)\n",
    "\n",
    "          for fileName in tq.tqdm(fileNames, total=len(fileNames)):         \n",
    "            shutil.copy(fileName, tmpFileName+'.zip')\n",
    "            os.system('unzip -d /tmp '+tmpFileName+'.zip')\n",
    "            csvFileName = os.path.basename(fileName).replace('zip', 'csv')\n",
    "            with open('/tmp/'+csvFileName, 'r') as csvfileID:\n",
    "              reader = csv.reader(csvfileID, delimiter=',')\n",
    "              nbVec = (sum(1 for row in reader))\n",
    "            with open('/tmp/'+csvFileName, 'r') as csvfileID: \n",
    "              reader = csv.reader(csvfileID, delimiter=',')\n",
    "              data = np.zeros((nbVec, 32))\n",
    "              rCount = 0\n",
    "              for r, row in enumerate(reader):\n",
    "                if r%4800<360: # every 10 minutes, for 45 seconds\n",
    "                    data[rCount, :] = [float(s) for s in row]\n",
    "                    rCount +=1\n",
    "                    arrayTime.append(data[:, 0])\n",
    "                    arraySpec.append(data[:, 3:])\n",
    "\n",
    "              os.remove('/tmp/'+csvFileName)\n",
    "            os.remove(tmpFileName+'.zip')\n",
    "      f.root.sensor.flush()\n",
    "      f.close()\n",
    "\n",
    "tb.file._open_files.close_all()\n",
    "generateDataset(config, 1)\n",
    "generateDataset(config, 0)"
   ]
  },
  {
   "cell_type": "markdown",
   "metadata": {
    "id": "QKptdVpO4Tm9"
   },
   "source": [
    "# check dataset integrity\n",
    "\n",
    "  "
   ]
  },
  {
   "cell_type": "code",
   "execution_count": null,
   "metadata": {
    "colab": {
     "base_uri": "https://localhost:8080/",
     "height": 86
    },
    "id": "gLWDwfkR4Xi5",
    "outputId": "0bdaef12-6aec-4885-da56-4ed01c7ddd48"
   },
   "outputs": [],
   "source": [
    "print(len(sensorInfo))\n",
    "f = tb.open_file(dataPath+datasetFileName, mode='r')\n",
    "print(len(f.root.sensor))\n",
    "print(sum(1 for x in f.root.time))\n",
    "print(sum(1 for x in f.root.spectrum))\n",
    "f.close()"
   ]
  },
  {
   "cell_type": "markdown",
   "metadata": {
    "id": "Pf4vngbfnvhb"
   },
   "source": [
    "# Check disk usage"
   ]
  },
  {
   "cell_type": "code",
   "execution_count": null,
   "metadata": {
    "colab": {
     "base_uri": "https://localhost:8080/",
     "height": 35
    },
    "id": "osxwheycvGMv",
    "outputId": "2d056d5b-c70b-4772-af24-cfd321e88d82"
   },
   "outputs": [],
   "source": [
    "! du -sh {dataPath}"
   ]
  },
  {
   "cell_type": "markdown",
   "metadata": {
    "id": "VnG0Hc96LfhX"
   },
   "source": [
    "# remove sensors with low content"
   ]
  },
  {
   "cell_type": "code",
   "execution_count": null,
   "metadata": {
    "id": "XIgoTVUy-pnC"
   },
   "outputs": [],
   "source": [
    "f = tb.open_file(dataPath+datasetFileName, mode='a')\n",
    "for d in f.root.spectrum: # loop over spectral data\n",
    "  if d.shape[0]<2000000:\n",
    "    for xCount, x in enumerate(f.root.sensor):   \n",
    "      if x['number'] == int(d._v_name.replace('sensor', '')):\n",
    "        f.root.sensor.remove_row(xCount) # remove column in table\n",
    "    f.root.time._f_get_child(d._v_name)._f_remove() # remove time data\n",
    "    d._f_remove() # remove spectral data\n",
    "f.root.sensor.flush()\n",
    "f.close()"
   ]
  },
  {
   "cell_type": "markdown",
   "metadata": {
    "id": "3lg-AgfVEm_w"
   },
   "source": [
    "# put all sensors at length"
   ]
  },
  {
   "cell_type": "code",
   "execution_count": null,
   "metadata": {
    "colab": {
     "base_uri": "https://localhost:8080/",
     "height": 587
    },
    "id": "x5Sh9-foElP1",
    "outputId": "059b2058-95a6-495b-b0ca-0eae3181eb6d"
   },
   "outputs": [],
   "source": [
    "f = tb.open_file(dataPath+datasetFileName, mode='a')\n",
    "minSize = min([x.shape[0] for x in f.root.spectrum])\n",
    "print(minSize)\n",
    "minSize = 300000 # uncomment to generate small dataset\n",
    "for s in f.root.sensor: # loop over sensors\n",
    "  f.root.spectrum._f_get_child('sensor'+str(s['number'])).rename('tmp')\n",
    "  f.create_array(f.root.spectrum, 'sensor'+str(s['number']), f.root.spectrum.tmp[:minSize])\n",
    "  f.root.spectrum._f_get_child('tmp')._f_remove()\n",
    "  print(f.root.spectrum._f_get_child('sensor'+str(s['number'])).shape)\n",
    "\n",
    "  f.root.time._f_get_child('sensor'+str(s['number'])).rename('tmp')\n",
    "  f.create_array(f.root.time, 'sensor'+str(s['number']), f.root.time.tmp[:minSize])\n",
    "  f.root.time._f_get_child('tmp')._f_remove()\n",
    "  print(f.root.time._f_get_child('sensor'+str(s['number'])).shape) \n",
    "f.close()"
   ]
  },
  {
   "cell_type": "markdown",
   "metadata": {
    "id": "TVQ-eu9Px5KV"
   },
   "source": [
    "# Sanity check\n",
    "\n",
    "min max, and average mean, std per block\n",
    "per sensor and frequencyBand"
   ]
  },
  {
   "cell_type": "code",
   "execution_count": null,
   "metadata": {
    "colab": {
     "base_uri": "https://localhost:8080/",
     "height": 66,
     "referenced_widgets": [
      "0aa1df8c24c047c383e000256e771423",
      "4724434d910a480699e3b10f1e6cc9b5",
      "72ed1d7016024e119bf61f499ae147ff",
      "a65d0d6892d84c6d8cd749e84ee6a626",
      "9c78bcb9613d482b9c86a7b03b41f519",
      "d1d918b3c316498dbdcb6fcb032f5c44",
      "0ab0f722f5424f489672c10e2520da54",
      "b2f49912a54d4174b501e909fbedd374"
     ]
    },
    "id": "qXp3bbHJskPH",
    "outputId": "4a7a6498-b7c2-41dd-dd74-894a23b78e6a"
   },
   "outputs": [],
   "source": [
    "def sanityCheck(datasetPath, dryRun=False):\n",
    "\n",
    "  f = tb.open_file(datasetPath, mode='r')\n",
    "  stats = np.zeros((len(f.root.sensor), f.root.spectrum.sensor0.shape[1], 5))\n",
    "\n",
    "  for dCount, data in tqdm(enumerate(f.root.spectrum), total=len(f.root.sensor)):\n",
    "    if data.shape[0]>0:\n",
    "      if dryRun:\n",
    "        data = data[0:100, :]\n",
    "      stats[dCount, :, 0] = np.amin(data, axis=0)\n",
    "      stats[dCount, :, 1] = np.amax(data, axis=0)\n",
    "      stats[dCount, :, 2] = np.mean(data, axis=0)\n",
    "      stats[dCount, :, 3] = np.std(data, axis=0)\n",
    "      stats[dCount, :, 4] = data.shape[0]\n",
    "  f.close()\n",
    "\n",
    "  return stats\n",
    "\n",
    "stats = sanityCheck(dataPath+datasetFileName)"
   ]
  },
  {
   "cell_type": "markdown",
   "metadata": {
    "id": "3WP9GNnI-pYt"
   },
   "source": []
  },
  {
   "cell_type": "markdown",
   "metadata": {
    "id": "YcPZCQGssmED"
   },
   "source": [
    "# Display statistics"
   ]
  },
  {
   "cell_type": "code",
   "execution_count": null,
   "metadata": {
    "id": "AvVBMQ_DuXk4"
   },
   "outputs": [],
   "source": [
    "plt.rcParams[\"figure.figsize\"] = [16,9]\n",
    "\n",
    "f, axes = plt.subplots(2, 2)\n",
    "statNames = ['Min', 'Max', 'Mean', 'Std']\n",
    "axes = axes.flatten()\n",
    "for aCount, ax in enumerate(axes):\n",
    "  ax.set_title(statNames[aCount])\n",
    "  i = ax.imshow(stats[:, :, aCount])\n",
    "  f.colorbar(i, ax=ax)\n",
    "  ax.set_xlabel('Frequency bands')\n",
    "  ax.set_ylabel('Sensor id')\n",
    "\n",
    "f.show()\n",
    "f.savefig(localPath+'/figures/stats.png')"
   ]
  },
  {
   "cell_type": "markdown",
   "metadata": {
    "id": "pXDuh1WNCWi7"
   },
   "source": [
    "# check for discontinuity"
   ]
  },
  {
   "cell_type": "code",
   "execution_count": null,
   "metadata": {
    "colab": {
     "base_uri": "https://localhost:8080/",
     "height": 66,
     "referenced_widgets": [
      "51d029d1b642489084e3713e4045bf21",
      "fe4bdf127fc94b66b4b58f9ffc2ba9a4",
      "3d0df5266a7e41838607224f8c48d68c",
      "76e4aeb23c2445aea507bae4ea5dc0bb",
      "8da90fd845b04d3881c232473631e1c7",
      "5a3f41b4db9a4a9d93d9d074c19a69f0",
      "305e70bcf851412588e796e745d46dcb",
      "ea7ed5362f6549bc8a98ca0e7a18840f"
     ]
    },
    "id": "GYkj90wACb-n",
    "outputId": "28b9d0ef-8075-4426-b6a9-6b07687ca834"
   },
   "outputs": [],
   "source": [
    "tolerance = 250\n",
    "\n",
    "f = tb.open_file(dataPath+datasetFileName, mode='r')\n",
    "\n",
    "nbDisc = np.zeros((len(f.root.sensor), 1))\n",
    "nbVec = np.zeros((len(f.root.sensor), 1))\n",
    "\n",
    "for tCount, t in tqdm(enumerate(f.root.time), total=len(f.root.sensor)):\n",
    "  t0 = t[0]\n",
    "  nbVec[tCount] = len(t)\n",
    "  for t1 in t[1:]:\n",
    "    if t1-t0 > tolerance:\n",
    "      nbDisc[tCount] += 1\n",
    "    t0=t1\n",
    "f.close()"
   ]
  },
  {
   "cell_type": "markdown",
   "metadata": {
    "id": "PJ_6bizfDfPb"
   },
   "source": [
    "# display discontinuity per sensor"
   ]
  },
  {
   "cell_type": "code",
   "execution_count": null,
   "metadata": {
    "id": "BfBafQJUDfdk"
   },
   "outputs": [],
   "source": [
    "fig, axes = plt.subplots(2, 1)\n",
    "\n",
    "axes[0].plot(nbDisc/max(nbVec))\n",
    "axes[0].set_xlabel('Sensor id')\n",
    "axes[0].set_ylabel('# dicontinuities / # vectors')\n",
    "axes[1].plot(nbVec)\n",
    "axes[1].set_xlabel('Sensor id')\n",
    "axes[1].set_ylabel('# vectors')\n",
    "\n",
    "plt.show()\n",
    "fig.savefig(localPath+'/figures/discontinuities.png')"
   ]
  },
  {
   "cell_type": "markdown",
   "metadata": {
    "id": "AMFyYl2GtTF9"
   },
   "source": [
    "# check for continuity"
   ]
  },
  {
   "cell_type": "code",
   "execution_count": null,
   "metadata": {
    "id": "4gOZU32JCe-I"
   },
   "outputs": [],
   "source": [
    "f = tb.open_file(dataPath+datasetFileName, mode='r')\n",
    "print(len(f.root.time.sensor13))\n",
    "plt.plot(f.root.time.sensor13)"
   ]
  },
  {
   "cell_type": "markdown",
   "metadata": {
    "id": "uFloVNPZQiwP"
   },
   "source": [
    "# curate sensor naming"
   ]
  },
  {
   "cell_type": "code",
   "execution_count": null,
   "metadata": {
    "id": "zWDui6b9QfYJ"
   },
   "outputs": [],
   "source": [
    "f = tb.open_file(dataPath+datasetFileName, mode='a')\n",
    "for dCount, d in enumerate(f.root.sensor): # loop over sensor table\n",
    "  print(d['number'])\n",
    "  f.root.time._f_get_child('sensor'+str(d['number'])).rename('sensorTmp'+str(dCount))\n",
    "  f.root.spectrum._f_get_child('sensor'+str(d['number'])).rename('sensorTmp'+str(dCount))\n",
    "  d['number'] = dCount \n",
    "  d.update()\n",
    "\n",
    "for d in f.root.spectrum:\n",
    "  d.rename(d._v_name.replace('Tmp', ''))\n",
    "for d in f.root.time:\n",
    "  d.rename(d._v_name.replace('Tmp', ''))\n",
    "f.close()"
   ]
  },
  {
   "cell_type": "markdown",
   "metadata": {
    "id": "mT_4ydQUMfNP"
   },
   "source": [
    "# Debug"
   ]
  },
  {
   "cell_type": "markdown",
   "metadata": {
    "id": "FeXE9ovM7Jvu"
   },
   "source": [
    "# close all tables files\n",
    "  "
   ]
  },
  {
   "cell_type": "code",
   "execution_count": null,
   "metadata": {
    "colab": {
     "base_uri": "https://localhost:8080/",
     "height": 35
    },
    "id": "e2CJkyTdLn1y",
    "outputId": "335a775b-cf17-4c07-9798-e72fb46ecfb8"
   },
   "outputs": [],
   "source": [
    "tb.file._open_files.close_all()"
   ]
  },
  {
   "cell_type": "markdown",
   "metadata": {
    "id": "pf8qSDa-8Gzv"
   },
   "source": [
    "# revert backup"
   ]
  },
  {
   "cell_type": "code",
   "execution_count": null,
   "metadata": {
    "id": "K49nLN-t8IiY"
   },
   "outputs": [],
   "source": [
    "! rsync  --info=progress2 {dataPath+datasetFileName.replace('.h5', 'Bck.h5')} {dataPath+datasetFileName}"
   ]
  },
  {
   "cell_type": "code",
   "execution_count": null,
   "metadata": {
    "colab": {
     "base_uri": "https://localhost:8080/",
     "height": 725
    },
    "id": "SgAsPJ-c8Ya-",
    "outputId": "57ee8c1f-1b6b-441b-f31d-36d7515b2fa0"
   },
   "outputs": [],
   "source": [
    "f = tb.open_file(inputPath+datasetFileName, mode='r')\n",
    "print(f.root.sensor[:]['number'])\n",
    "print(f)\n",
    "f.close()"
   ]
  },
  {
   "cell_type": "code",
   "execution_count": null,
   "metadata": {
    "id": "Dk83kdv90ol1"
   },
   "outputs": [],
   "source": [
    "! ptrepack {dataPath+datasetFileName} {dataPath+'tmp.h5'}\n",
    "! mv {dataPath+'tmp.h5'} {dataPath+datasetFileName}"
   ]
  },
  {
   "cell_type": "code",
   "execution_count": null,
   "metadata": {
    "colab": {
     "base_uri": "https://localhost:8080/",
     "height": 35
    },
    "id": "4bNjsr4K0w1G",
    "outputId": "32eb96c3-7159-4e09-cafa-c9c8b25a554e"
   },
   "outputs": [],
   "source": [
    "stats\n"
   ]
  },
  {
   "cell_type": "code",
   "execution_count": null,
   "metadata": {
    "id": "mWACX2lfJx4C"
   },
   "outputs": [],
   "source": [
    "np.save('/experiments/data/global/censeDomainAdaptation/models', stats)"
   ]
  },
  {
   "cell_type": "code",
   "execution_count": null,
   "metadata": {
    "id": "U1yW8cvNJ-vc"
   },
   "outputs": [],
   "source": [
    "28800*125/1000/60"
   ]
  },
  {
   "cell_type": "code",
   "execution_count": null,
   "metadata": {},
   "outputs": [],
   "source": [
    "1000/125"
   ]
  },
  {
   "cell_type": "code",
   "execution_count": null,
   "metadata": {},
   "outputs": [],
   "source": [
    "80*60"
   ]
  },
  {
   "cell_type": "code",
   "execution_count": null,
   "metadata": {},
   "outputs": [],
   "source": [
    "45*8"
   ]
  },
  {
   "cell_type": "code",
   "execution_count": null,
   "metadata": {},
   "outputs": [],
   "source": []
  }
 ],
 "metadata": {
  "colab": {
   "collapsed_sections": [
    "3lg-AgfVEm_w"
   ],
   "name": "prepareCenseDataH5.ipynb",
   "provenance": [],
   "toc_visible": true
  },
  "kernelspec": {
   "display_name": "Python 3",
   "language": "python",
   "name": "python3"
  },
  "language_info": {
   "codemirror_mode": {
    "name": "ipython",
    "version": 2
   },
   "file_extension": ".py",
   "mimetype": "text/x-python",
   "name": "python",
   "nbconvert_exporter": "python",
   "pygments_lexer": "ipython2",
   "version": "2.7.12"
  },
  "widgets": {
   "application/vnd.jupyter.widget-state+json": {
    "0aa1df8c24c047c383e000256e771423": {
     "model_module": "@jupyter-widgets/controls",
     "model_name": "HBoxModel",
     "state": {
      "_dom_classes": [],
      "_model_module": "@jupyter-widgets/controls",
      "_model_module_version": "1.5.0",
      "_model_name": "HBoxModel",
      "_view_count": null,
      "_view_module": "@jupyter-widgets/controls",
      "_view_module_version": "1.5.0",
      "_view_name": "HBoxView",
      "box_style": "",
      "children": [
       "IPY_MODEL_72ed1d7016024e119bf61f499ae147ff",
       "IPY_MODEL_a65d0d6892d84c6d8cd749e84ee6a626"
      ],
      "layout": "IPY_MODEL_4724434d910a480699e3b10f1e6cc9b5"
     }
    },
    "0ab0f722f5424f489672c10e2520da54": {
     "model_module": "@jupyter-widgets/controls",
     "model_name": "DescriptionStyleModel",
     "state": {
      "_model_module": "@jupyter-widgets/controls",
      "_model_module_version": "1.5.0",
      "_model_name": "DescriptionStyleModel",
      "_view_count": null,
      "_view_module": "@jupyter-widgets/base",
      "_view_module_version": "1.2.0",
      "_view_name": "StyleView",
      "description_width": ""
     }
    },
    "305e70bcf851412588e796e745d46dcb": {
     "model_module": "@jupyter-widgets/controls",
     "model_name": "DescriptionStyleModel",
     "state": {
      "_model_module": "@jupyter-widgets/controls",
      "_model_module_version": "1.5.0",
      "_model_name": "DescriptionStyleModel",
      "_view_count": null,
      "_view_module": "@jupyter-widgets/base",
      "_view_module_version": "1.2.0",
      "_view_name": "StyleView",
      "description_width": ""
     }
    },
    "3d0df5266a7e41838607224f8c48d68c": {
     "model_module": "@jupyter-widgets/controls",
     "model_name": "FloatProgressModel",
     "state": {
      "_dom_classes": [],
      "_model_module": "@jupyter-widgets/controls",
      "_model_module_version": "1.5.0",
      "_model_name": "FloatProgressModel",
      "_view_count": null,
      "_view_module": "@jupyter-widgets/controls",
      "_view_module_version": "1.5.0",
      "_view_name": "ProgressView",
      "bar_style": "success",
      "description": "100%",
      "description_tooltip": null,
      "layout": "IPY_MODEL_5a3f41b4db9a4a9d93d9d074c19a69f0",
      "max": 16,
      "min": 0,
      "orientation": "horizontal",
      "style": "IPY_MODEL_8da90fd845b04d3881c232473631e1c7",
      "value": 16
     }
    },
    "4724434d910a480699e3b10f1e6cc9b5": {
     "model_module": "@jupyter-widgets/base",
     "model_name": "LayoutModel",
     "state": {
      "_model_module": "@jupyter-widgets/base",
      "_model_module_version": "1.2.0",
      "_model_name": "LayoutModel",
      "_view_count": null,
      "_view_module": "@jupyter-widgets/base",
      "_view_module_version": "1.2.0",
      "_view_name": "LayoutView",
      "align_content": null,
      "align_items": null,
      "align_self": null,
      "border": null,
      "bottom": null,
      "display": null,
      "flex": null,
      "flex_flow": null,
      "grid_area": null,
      "grid_auto_columns": null,
      "grid_auto_flow": null,
      "grid_auto_rows": null,
      "grid_column": null,
      "grid_gap": null,
      "grid_row": null,
      "grid_template_areas": null,
      "grid_template_columns": null,
      "grid_template_rows": null,
      "height": null,
      "justify_content": null,
      "justify_items": null,
      "left": null,
      "margin": null,
      "max_height": null,
      "max_width": null,
      "min_height": null,
      "min_width": null,
      "object_fit": null,
      "object_position": null,
      "order": null,
      "overflow": null,
      "overflow_x": null,
      "overflow_y": null,
      "padding": null,
      "right": null,
      "top": null,
      "visibility": null,
      "width": null
     }
    },
    "51d029d1b642489084e3713e4045bf21": {
     "model_module": "@jupyter-widgets/controls",
     "model_name": "HBoxModel",
     "state": {
      "_dom_classes": [],
      "_model_module": "@jupyter-widgets/controls",
      "_model_module_version": "1.5.0",
      "_model_name": "HBoxModel",
      "_view_count": null,
      "_view_module": "@jupyter-widgets/controls",
      "_view_module_version": "1.5.0",
      "_view_name": "HBoxView",
      "box_style": "",
      "children": [
       "IPY_MODEL_3d0df5266a7e41838607224f8c48d68c",
       "IPY_MODEL_76e4aeb23c2445aea507bae4ea5dc0bb"
      ],
      "layout": "IPY_MODEL_fe4bdf127fc94b66b4b58f9ffc2ba9a4"
     }
    },
    "5a3f41b4db9a4a9d93d9d074c19a69f0": {
     "model_module": "@jupyter-widgets/base",
     "model_name": "LayoutModel",
     "state": {
      "_model_module": "@jupyter-widgets/base",
      "_model_module_version": "1.2.0",
      "_model_name": "LayoutModel",
      "_view_count": null,
      "_view_module": "@jupyter-widgets/base",
      "_view_module_version": "1.2.0",
      "_view_name": "LayoutView",
      "align_content": null,
      "align_items": null,
      "align_self": null,
      "border": null,
      "bottom": null,
      "display": null,
      "flex": null,
      "flex_flow": null,
      "grid_area": null,
      "grid_auto_columns": null,
      "grid_auto_flow": null,
      "grid_auto_rows": null,
      "grid_column": null,
      "grid_gap": null,
      "grid_row": null,
      "grid_template_areas": null,
      "grid_template_columns": null,
      "grid_template_rows": null,
      "height": null,
      "justify_content": null,
      "justify_items": null,
      "left": null,
      "margin": null,
      "max_height": null,
      "max_width": null,
      "min_height": null,
      "min_width": null,
      "object_fit": null,
      "object_position": null,
      "order": null,
      "overflow": null,
      "overflow_x": null,
      "overflow_y": null,
      "padding": null,
      "right": null,
      "top": null,
      "visibility": null,
      "width": null
     }
    },
    "72ed1d7016024e119bf61f499ae147ff": {
     "model_module": "@jupyter-widgets/controls",
     "model_name": "FloatProgressModel",
     "state": {
      "_dom_classes": [],
      "_model_module": "@jupyter-widgets/controls",
      "_model_module_version": "1.5.0",
      "_model_name": "FloatProgressModel",
      "_view_count": null,
      "_view_module": "@jupyter-widgets/controls",
      "_view_module_version": "1.5.0",
      "_view_name": "ProgressView",
      "bar_style": "success",
      "description": "100%",
      "description_tooltip": null,
      "layout": "IPY_MODEL_d1d918b3c316498dbdcb6fcb032f5c44",
      "max": 16,
      "min": 0,
      "orientation": "horizontal",
      "style": "IPY_MODEL_9c78bcb9613d482b9c86a7b03b41f519",
      "value": 16
     }
    },
    "76e4aeb23c2445aea507bae4ea5dc0bb": {
     "model_module": "@jupyter-widgets/controls",
     "model_name": "HTMLModel",
     "state": {
      "_dom_classes": [],
      "_model_module": "@jupyter-widgets/controls",
      "_model_module_version": "1.5.0",
      "_model_name": "HTMLModel",
      "_view_count": null,
      "_view_module": "@jupyter-widgets/controls",
      "_view_module_version": "1.5.0",
      "_view_name": "HTMLView",
      "description": "",
      "description_tooltip": null,
      "layout": "IPY_MODEL_ea7ed5362f6549bc8a98ca0e7a18840f",
      "placeholder": "​",
      "style": "IPY_MODEL_305e70bcf851412588e796e745d46dcb",
      "value": " 16/16 [00:53&lt;00:00,  3.34s/it]"
     }
    },
    "8da90fd845b04d3881c232473631e1c7": {
     "model_module": "@jupyter-widgets/controls",
     "model_name": "ProgressStyleModel",
     "state": {
      "_model_module": "@jupyter-widgets/controls",
      "_model_module_version": "1.5.0",
      "_model_name": "ProgressStyleModel",
      "_view_count": null,
      "_view_module": "@jupyter-widgets/base",
      "_view_module_version": "1.2.0",
      "_view_name": "StyleView",
      "bar_color": null,
      "description_width": "initial"
     }
    },
    "9c78bcb9613d482b9c86a7b03b41f519": {
     "model_module": "@jupyter-widgets/controls",
     "model_name": "ProgressStyleModel",
     "state": {
      "_model_module": "@jupyter-widgets/controls",
      "_model_module_version": "1.5.0",
      "_model_name": "ProgressStyleModel",
      "_view_count": null,
      "_view_module": "@jupyter-widgets/base",
      "_view_module_version": "1.2.0",
      "_view_name": "StyleView",
      "bar_color": null,
      "description_width": "initial"
     }
    },
    "a65d0d6892d84c6d8cd749e84ee6a626": {
     "model_module": "@jupyter-widgets/controls",
     "model_name": "HTMLModel",
     "state": {
      "_dom_classes": [],
      "_model_module": "@jupyter-widgets/controls",
      "_model_module_version": "1.5.0",
      "_model_name": "HTMLModel",
      "_view_count": null,
      "_view_module": "@jupyter-widgets/controls",
      "_view_module_version": "1.5.0",
      "_view_name": "HTMLView",
      "description": "",
      "description_tooltip": null,
      "layout": "IPY_MODEL_b2f49912a54d4174b501e909fbedd374",
      "placeholder": "​",
      "style": "IPY_MODEL_0ab0f722f5424f489672c10e2520da54",
      "value": " 16/16 [27:55&lt;00:00, 104.72s/it]"
     }
    },
    "b2f49912a54d4174b501e909fbedd374": {
     "model_module": "@jupyter-widgets/base",
     "model_name": "LayoutModel",
     "state": {
      "_model_module": "@jupyter-widgets/base",
      "_model_module_version": "1.2.0",
      "_model_name": "LayoutModel",
      "_view_count": null,
      "_view_module": "@jupyter-widgets/base",
      "_view_module_version": "1.2.0",
      "_view_name": "LayoutView",
      "align_content": null,
      "align_items": null,
      "align_self": null,
      "border": null,
      "bottom": null,
      "display": null,
      "flex": null,
      "flex_flow": null,
      "grid_area": null,
      "grid_auto_columns": null,
      "grid_auto_flow": null,
      "grid_auto_rows": null,
      "grid_column": null,
      "grid_gap": null,
      "grid_row": null,
      "grid_template_areas": null,
      "grid_template_columns": null,
      "grid_template_rows": null,
      "height": null,
      "justify_content": null,
      "justify_items": null,
      "left": null,
      "margin": null,
      "max_height": null,
      "max_width": null,
      "min_height": null,
      "min_width": null,
      "object_fit": null,
      "object_position": null,
      "order": null,
      "overflow": null,
      "overflow_x": null,
      "overflow_y": null,
      "padding": null,
      "right": null,
      "top": null,
      "visibility": null,
      "width": null
     }
    },
    "d1d918b3c316498dbdcb6fcb032f5c44": {
     "model_module": "@jupyter-widgets/base",
     "model_name": "LayoutModel",
     "state": {
      "_model_module": "@jupyter-widgets/base",
      "_model_module_version": "1.2.0",
      "_model_name": "LayoutModel",
      "_view_count": null,
      "_view_module": "@jupyter-widgets/base",
      "_view_module_version": "1.2.0",
      "_view_name": "LayoutView",
      "align_content": null,
      "align_items": null,
      "align_self": null,
      "border": null,
      "bottom": null,
      "display": null,
      "flex": null,
      "flex_flow": null,
      "grid_area": null,
      "grid_auto_columns": null,
      "grid_auto_flow": null,
      "grid_auto_rows": null,
      "grid_column": null,
      "grid_gap": null,
      "grid_row": null,
      "grid_template_areas": null,
      "grid_template_columns": null,
      "grid_template_rows": null,
      "height": null,
      "justify_content": null,
      "justify_items": null,
      "left": null,
      "margin": null,
      "max_height": null,
      "max_width": null,
      "min_height": null,
      "min_width": null,
      "object_fit": null,
      "object_position": null,
      "order": null,
      "overflow": null,
      "overflow_x": null,
      "overflow_y": null,
      "padding": null,
      "right": null,
      "top": null,
      "visibility": null,
      "width": null
     }
    },
    "ea7ed5362f6549bc8a98ca0e7a18840f": {
     "model_module": "@jupyter-widgets/base",
     "model_name": "LayoutModel",
     "state": {
      "_model_module": "@jupyter-widgets/base",
      "_model_module_version": "1.2.0",
      "_model_name": "LayoutModel",
      "_view_count": null,
      "_view_module": "@jupyter-widgets/base",
      "_view_module_version": "1.2.0",
      "_view_name": "LayoutView",
      "align_content": null,
      "align_items": null,
      "align_self": null,
      "border": null,
      "bottom": null,
      "display": null,
      "flex": null,
      "flex_flow": null,
      "grid_area": null,
      "grid_auto_columns": null,
      "grid_auto_flow": null,
      "grid_auto_rows": null,
      "grid_column": null,
      "grid_gap": null,
      "grid_row": null,
      "grid_template_areas": null,
      "grid_template_columns": null,
      "grid_template_rows": null,
      "height": null,
      "justify_content": null,
      "justify_items": null,
      "left": null,
      "margin": null,
      "max_height": null,
      "max_width": null,
      "min_height": null,
      "min_width": null,
      "object_fit": null,
      "object_position": null,
      "order": null,
      "overflow": null,
      "overflow_x": null,
      "overflow_y": null,
      "padding": null,
      "right": null,
      "top": null,
      "visibility": null,
      "width": null
     }
    },
    "fe4bdf127fc94b66b4b58f9ffc2ba9a4": {
     "model_module": "@jupyter-widgets/base",
     "model_name": "LayoutModel",
     "state": {
      "_model_module": "@jupyter-widgets/base",
      "_model_module_version": "1.2.0",
      "_model_name": "LayoutModel",
      "_view_count": null,
      "_view_module": "@jupyter-widgets/base",
      "_view_module_version": "1.2.0",
      "_view_name": "LayoutView",
      "align_content": null,
      "align_items": null,
      "align_self": null,
      "border": null,
      "bottom": null,
      "display": null,
      "flex": null,
      "flex_flow": null,
      "grid_area": null,
      "grid_auto_columns": null,
      "grid_auto_flow": null,
      "grid_auto_rows": null,
      "grid_column": null,
      "grid_gap": null,
      "grid_row": null,
      "grid_template_areas": null,
      "grid_template_columns": null,
      "grid_template_rows": null,
      "height": null,
      "justify_content": null,
      "justify_items": null,
      "left": null,
      "margin": null,
      "max_height": null,
      "max_width": null,
      "min_height": null,
      "min_width": null,
      "object_fit": null,
      "object_position": null,
      "order": null,
      "overflow": null,
      "overflow_x": null,
      "overflow_y": null,
      "padding": null,
      "right": null,
      "top": null,
      "visibility": null,
      "width": null
     }
    }
   }
  }
 },
 "nbformat": 4,
 "nbformat_minor": 2
}
